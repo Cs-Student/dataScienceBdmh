{
 "nbformat": 4,
 "nbformat_minor": 0,
 "metadata": {
  "colab": {
   "name": "bdmh_project_sd_1_4_d1 (1).ipynb",
   "provenance": [],
   "collapsed_sections": []
  },
  "kernelspec": {
   "name": "pycharm-d529b1a4",
   "language": "python",
   "display_name": "PyCharm (bdmhprj1)"
  },
  "language_info": {
   "codemirror_mode": {
    "name": "ipython",
    "version": 3
   },
   "file_extension": ".py",
   "mimetype": "text/x-python",
   "name": "python",
   "nbconvert_exporter": "python",
   "pygments_lexer": "ipython3",
   "version": "3.7.3"
  }
 },
 "cells": [
  {
   "cell_type": "markdown",
   "metadata": {
    "colab_type": "text",
    "id": "c4_NhtvEzVpb"
   },
   "source": [
    "# BDMH PROJECT\n",
    "## An Empirical Study of Machine Learning Algorithms for Cancer Identification"
   ]
  },
  {
   "cell_type": "markdown",
   "metadata": {
    "colab_type": "text",
    "id": "6IP0Y51LzVpd"
   },
   "source": [
    "#### Note\n",
    "----\n",
    "    Step 1) Place the 'GSE62054_series_matrix.txt', 'GSE98406_series_matrix.txt'\n",
    "    and 'scaling.py' in the same folder.\n",
    "    Step 2) Change the current directory to this new directory using the cell below."
   ]
  },
  {
   "cell_type": "code",
   "metadata": {
    "colab_type": "code",
    "id": "MVdbltEKzVph",
    "colab": {}
   },
   "source": [
    "#imports\n",
    "#import scaling\n",
    "import pandas as pd\n",
    "import numpy as np \n",
    "import seaborn as sns\n",
    "\n",
    "from sklearn.model_selection import train_test_split \n",
    "from sklearn.metrics import classification_report, confusion_matrix ,accuracy_score,roc_auc_score\n",
    "from sklearn.model_selection import StratifiedKFold\n",
    "from sklearn.ensemble import AdaBoostClassifier\n",
    "from sklearn.model_selection import GridSearchCV\n",
    "from sklearn.ensemble import RandomForestClassifier\n",
    "from sklearn.model_selection import RandomizedSearchCV\n",
    "from xgboost import XGBClassifier\n",
    "from sklearn.linear_model import LogisticRegression  \n",
    "from keras.models import Sequential\n",
    "from keras.layers import Dense\n",
    "from sklearn.svm import SVC\n",
    "\n",
    "import matplotlib as mpl\n",
    "import matplotlib.pylab as plt"
   ],
   "execution_count": 24,
   "outputs": []
  },
  {
   "cell_type": "markdown",
   "metadata": {
    "colab_type": "text",
    "id": "0DZxyipGzVpk"
   },
   "source": [
    "### Load data"
   ]
  },
  {
   "cell_type": "code",
   "metadata": {
    "id": "rgzvYZ3XAFre",
    "colab_type": "code",
    "colab": {}
   },
   "source": [
    "file_Colon_Liver = open(\"GSE98406_series_matrix.txt\",encoding='ISO-8859-1').read()\n",
    "data_Colon_Liver = file_Colon_Liver.split('\\n\\n')[2]\n",
    "data_Colon_Liver=data_Colon_Liver.split('\\n')"
   ],
   "execution_count": 25,
   "outputs": []
  },
  {
   "cell_type": "code",
   "metadata": {
    "id": "rYr513OUA4Ux",
    "colab_type": "code",
    "outputId": "8011d729-0ed3-4976-e630-b15b0d7af2f0",
    "executionInfo": {
     "status": "ok",
     "timestamp": 1589944578852,
     "user_tz": -330,
     "elapsed": 1092,
     "user": {
      "displayName": "Snehil IIITD",
      "photoUrl": "",
      "userId": "15237628669278151435"
     }
    },
    "colab": {
     "base_uri": "https://localhost:8080/",
     "height": 35
    }
   },
   "source": [
    "len(data_Colon_Liver)"
   ],
   "execution_count": 26,
   "outputs": [
    {
     "data": {
      "text/plain": "5610"
     },
     "execution_count": 26,
     "metadata": {},
     "output_type": "execute_result"
    }
   ]
  },
  {
   "cell_type": "code",
   "metadata": {
    "id": "RgEaCWJZBVSF",
    "colab_type": "code",
    "colab": {}
   },
   "source": [
    "#splitting dataset into input data and output labels\n",
    "X_colon=np.zeros((21,5607))\n",
    "X_Liver=np.zeros((21,5607))\n",
    "for i in range(1,len(data_Colon_Liver)-2):\n",
    "    x=data_Colon_Liver[i].split('\\t')\n",
    "    for j in range(1,8):\n",
    "        #print(i,\" \",j)\n",
    "        X_colon[(j-1),(i-1)]=x[j]\n",
    "    for j in range(8,15):\n",
    "        #print(i,\" \",j)\n",
    "        X_Liver[(j-8),(i-1)]=x[j]\n",
    "    for j in range(15,29):\n",
    "        #print(i,\" \",j)\n",
    "        X_colon[(j-8),(i-1)]=x[j]\n",
    "    for j in range(29,len(x)):\n",
    "        #print(i,\" \",j)\n",
    "        X_Liver[(j-22),(i-1)]=x[j]\n",
    "\n",
    "Y_colon=np.zeros(21)\n",
    "for i in range(0,21):\n",
    "    if i < 7:\n",
    "        Y_colon[i] = 0\n",
    "    else:\n",
    "        Y_colon[i] = 1\n",
    "\n",
    "Y_liver=np.zeros(21)\n",
    "for i in range(0,21):\n",
    "    if i < 7:\n",
    "        Y_liver[i] = 0\n",
    "    else:\n",
    "        Y_liver[i] = 1\n"
   ],
   "execution_count": 27,
   "outputs": []
  },
  {
   "cell_type": "code",
   "metadata": {
    "id": "z25QHrFJBVQU",
    "colab_type": "code",
    "outputId": "1c10642b-150f-4fbc-8404-d1a38438292f",
    "executionInfo": {
     "status": "ok",
     "timestamp": 1589945492698,
     "user_tz": -330,
     "elapsed": 1122,
     "user": {
      "displayName": "Snehil IIITD",
      "photoUrl": "",
      "userId": "15237628669278151435"
     }
    },
    "colab": {
     "base_uri": "https://localhost:8080/",
     "height": 156
    }
   },
   "source": [
    "print(\"X_colon shape = \",X_colon.shape)\n",
    "print(\"\\n\")\n",
    "print(\"Y_colon shape = \",Y_colon.shape)\n",
    "\n",
    "print(\"X_Liver shape = \",X_Liver.shape)\n",
    "print(\"\\n\")\n",
    "print(\"Y_Liver shape = \",Y_liver.shape)"
   ],
   "execution_count": 28,
   "outputs": [
    {
     "name": "stdout",
     "output_type": "stream",
     "text": [
      "X_colon shape =  (21, 5607)\n",
      "\n",
      "\n",
      "Y_colon shape =  (21,)\n",
      "X_Liver shape =  (21, 5607)\n",
      "\n",
      "\n",
      "Y_Liver shape =  (21,)\n"
     ]
    }
   ]
  },
  {
   "cell_type": "markdown",
   "metadata": {
    "colab_type": "text",
    "id": "-byfnGO9zVpx"
   },
   "source": [
    "## Data Analysis"
   ]
  },
  {
   "cell_type": "code",
   "metadata": {
    "colab_type": "code",
    "id": "FCwd7pEyzVpy",
    "outputId": "2368b2a0-fef1-4e6d-826e-ad16e7531626",
    "executionInfo": {
     "status": "ok",
     "timestamp": 1589941591081,
     "user_tz": -330,
     "elapsed": 1681,
     "user": {
      "displayName": "Snehil IIITD",
      "photoUrl": "",
      "userId": "15237628669278151435"
     }
    },
    "colab": {
     "base_uri": "https://localhost:8080/",
     "height": 321
    }
   },
   "source": [
    "#checking percentage of classes in labels\n",
    "YY = pd.Series(list(Y_colon),dtype = 'int32')\n",
    "print(YY.value_counts())\n",
    "g = sns.countplot(YY)"
   ],
   "execution_count": 29,
   "outputs": [
    {
     "name": "stdout",
     "output_type": "stream",
     "text": [
      "1    14\n",
      "0     7\n",
      "dtype: int64\n"
     ]
    },
    {
     "data": {
      "text/plain": "<Figure size 432x288 with 1 Axes>",
      "image/png": "[encoded data removed]"
     },
     "metadata": {
      "needs_background": "light"
     },
     "output_type": "display_data"
    }
   ]
  },
  {
   "cell_type": "code",
   "metadata": {
    "colab_type": "code",
    "id": "gI_MT_6tzVp1",
    "outputId": "e6510ed1-298f-42ae-92bb-664f52fd0769",
    "executionInfo": {
     "status": "ok",
     "timestamp": 1589927393188,
     "user_tz": -330,
     "elapsed": 1109,
     "user": {
      "displayName": "Snehil IIITD",
      "photoUrl": "",
      "userId": "15237628669278151435"
     }
    },
    "colab": {
     "base_uri": "https://localhost:8080/",
     "height": 35
    }
   },
   "source": [
    "print(\"Checking null values in X : \",np.argwhere(np.isnan(X_colon)))"
   ],
   "execution_count": 30,
   "outputs": [
    {
     "name": "stdout",
     "output_type": "stream",
     "text": [
      "Checking null values in X :  []\n"
     ]
    }
   ]
  },
  {
   "cell_type": "markdown",
   "metadata": {
    "colab_type": "text",
    "id": "UJbq1fSbB4sM"
   },
   "source": [
    "## Preprocesing Data\n",
    "## manually feature select using correlation"
   ]
  },
  {
   "cell_type": "code",
   "metadata": {
    "colab_type": "code",
    "id": "wu4sXiArCL_V",
    "colab": {}
   },
   "source": [
    "#performing feature reduction\n",
    "def feature_reduction_correlation_train(XTrain,threshold):\n",
    "    rows, cols = XTrain.shape\n",
    "    df_XTrain  = pd.DataFrame(XTrain)\n",
    "    print(\"Train data Shape before feature removal : \",df_XTrain.shape)\n",
    "    correlation = df_XTrain.corr()\n",
    "    featureIndex = {}\n",
    "    for i in range(0,cols):\n",
    "        for j in range((i+1),cols):\n",
    "            if abs(correlation.iloc[i, j])>threshold:\n",
    "                if i in featureIndex.keys():\n",
    "                    featureIndex[i].append(j)\n",
    "                else:\n",
    "                    x = [j]\n",
    "                    featureIndex[i] = x\n",
    "                    \n",
    "    for x in featureIndex.keys():\n",
    "        df_XTrain.drop([x], axis = 1,inplace=True)\n",
    "    print(\"Train data Shape after feature removal : \",df_XTrain.shape)\n",
    "    XTrain = df_XTrain.to_numpy()\n",
    "    return XTrain, featureIndex\n",
    "\n",
    "def feature_reduction_correlation_test(XTest, featureIndex):\n",
    "    df_XTest=pd.DataFrame(XTest)\n",
    "    print(\"Test data shape before feature removal : \",XTest.shape)         \n",
    "    for x in featureIndex.keys():\n",
    "        df_XTest.drop([x], axis=1,inplace=True)\n",
    "    \n",
    "    XTest= df_XTest.to_numpy()\n",
    "    print(\"Test data shape after feature removal : \",XTest.shape)         \n",
    "    return XTest\n",
    "\n",
    "def feature_reduction_correlation(XTrain,XTest,threshold):\n",
    "    rows, cols = XTrain.shape\n",
    "    df_XTrain=pd.DataFrame(XTrain)\n",
    "    df_XTest=pd.DataFrame(XTest)\n",
    "    correlation = df_XTrain.corr()\n",
    "    print(\"Train data Shape before feature removal : \",df_XTrain.shape)\n",
    "\n",
    "\n",
    "    featureIndex={}\n",
    "    for i in range(0,cols):\n",
    "        for j in range((i+1),cols):\n",
    "            if abs(correlation.iloc[i, j])>threshold:\n",
    "                if i in featureIndex.keys():\n",
    "                    featureIndex[i].append(j)\n",
    "                else:\n",
    "                    x=[j]\n",
    "                    featureIndex[i]=x\n",
    "    for x in featureIndex.keys():\n",
    "        df_XTrain.drop([x], axis=1,inplace=True)\n",
    "        df_XTest.drop([x], axis=1,inplace=True)\n",
    "    XTrain= df_XTrain.to_numpy()\n",
    "    XTest= df_XTest.to_numpy()\n",
    "    print(\"Train data Shape after feature removal : \",df_XTrain.shape)\n",
    "    return XTrain,XTest"
   ],
   "execution_count": 31,
   "outputs": []
  },
  {
   "cell_type": "markdown",
   "metadata": {
    "id": "SIWrBgXnCpV5",
    "colab_type": "text"
   },
   "source": [
    "## feature select using Select k best"
   ]
  },
  {
   "cell_type": "code",
   "metadata": {
    "id": "xXd7SaTKCpV6",
    "colab_type": "code",
    "colab": {}
   },
   "source": [
    "from sklearn.feature_selection import SelectKBest, f_classif, SelectFdr, chi2\n",
    "def feature_reduction_selectkbest(x_train,y_train,x_test, k):\n",
    "    skb =  SelectKBest(chi2, k)\n",
    "   \n",
    "    X_new = skb.fit_transform(x_train, y_train)\n",
    "    X_new_test = skb.transform(x_test)\n",
    "    \n",
    "    return X_new,X_new_test"
   ],
   "execution_count": 32,
   "outputs": []
  },
  {
   "cell_type": "code",
   "metadata": {
    "colab_type": "code",
    "id": "GGJLqusTEFSE",
    "outputId": "39df6cdc-de89-42f9-9115-e2c3f1f1df50",
    "executionInfo": {
     "status": "error",
     "timestamp": 1589927475991,
     "user_tz": -330,
     "elapsed": 1092,
     "user": {
      "displayName": "Snehil IIITD",
      "photoUrl": "",
      "userId": "15237628669278151435"
     }
    },
    "colab": {
     "base_uri": "https://localhost:8080/",
     "height": 183
    }
   },
   "source": [
    "# X_train, fi  = feature_reduction_correlation_train(X_train,0.85)\n",
    "# X_test       = feature_reduction_correlation_test(X_test, fi)"
   ],
   "execution_count": 33,
   "outputs": []
  },
  {
   "cell_type": "markdown",
   "metadata": {
    "colab_type": "text",
    "id": "74D7vcIZ0AB1"
   },
   "source": [
    "## k fold cross validation"
   ]
  },
  {
   "cell_type": "code",
   "metadata": {
    "colab_type": "code",
    "id": "SBhNEQ-cz_ZB",
    "colab": {}
   },
   "source": [
    "def kCrossValidation(XTrain, YTrain, k, model_func,flag,threshold):\n",
    "    rows, cols = XTrain.shape\n",
    "    kf = StratifiedKFold(n_splits=k, random_state=42, shuffle=False)\n",
    "    roc_list = []\n",
    "    accuracy_list = []\n",
    "    for itrain, itest in kf.split(XTrain,YTrain):\n",
    "        x_train, x_val = XTrain[itrain], XTrain[itest]\n",
    "        y_train, y_val = YTrain[itrain], YTrain[itest]\n",
    "        \n",
    "        if flag==0:\n",
    "          Xtr,XVal = feature_reduction_correlation(x_train,x_val,threshold)\n",
    "\n",
    "        else:\n",
    "          x_train, x_val = feature_reduction_selectkbest(x_train, y_train, x_val,threshold)\n",
    "        \n",
    "        roc, accuracy = model_func(x_train, y_train, x_val,y_val)\n",
    "        \n",
    "        roc_list.append(roc)\n",
    "        accuracy_list.append(accuracy)\n",
    "\n",
    "    return roc_list, accuracy_list"
   ],
   "execution_count": 34,
   "outputs": []
  },
  {
   "cell_type": "markdown",
   "metadata": {
    "colab_type": "text",
    "id": "jvCmIs1_zVp6"
   },
   "source": [
    "## Models"
   ]
  },
  {
   "cell_type": "markdown",
   "metadata": {
    "colab_type": "text",
    "id": "JaG4a4ObzVp6"
   },
   "source": [
    "### 1. Logistic Regression"
   ]
  },
  {
   "cell_type": "code",
   "metadata": {
    "colab_type": "code",
    "id": "UvdwSBYyzVp7",
    "colab": {}
   },
   "source": [
    "\n",
    "def LR_grid(X_train,y_train,X_test,y_test):\n",
    "    print(\"\\n--------Logistic Regression-----------\")\n",
    "    param_grid = { 'solver' : ['newton-cg', 'lbfgs', 'liblinear', 'sag', 'saga'] }\n",
    "    \n",
    "    lr_clf = GridSearchCV(LogisticRegression(max_iter = 3000), param_grid, refit = True)\n",
    "    lr_clf.fit(X_train, y_train) \n",
    "    print(\"\\n<Best Params> :\",lr_clf.best_params_) \n",
    "    pred   = lr_clf.predict(X_test) \n",
    "    \n",
    "    # print classification report \n",
    "    print(\"\\n<Classification Report>\\n\",classification_report(y_test, pred)) \n",
    "    # print confusion matrix \n",
    "    print(\"\\n<Confusion Matrix>\\n\",confusion_matrix(y_test, pred)) \n",
    "    # print Acuracy\n",
    "    print(\"\\n<Accuracy> : \",accuracy_score(y_test, pred)) \n",
    "    return roc_auc_score(y_test, pred),accuracy_score(y_test, pred)\n",
    "\n",
    "\n"
   ],
   "execution_count": 35,
   "outputs": []
  },
  {
   "cell_type": "markdown",
   "metadata": {
    "colab_type": "text",
    "id": "BKKeiwZ4zVp9"
   },
   "source": [
    "### 2. SVM"
   ]
  },
  {
   "cell_type": "code",
   "metadata": {
    "colab_type": "code",
    "id": "B9xvklvuzVp-",
    "colab": {}
   },
   "source": [
    "\n",
    "\n",
    "def SVM_grid(X_train,y_train,X_test,y_test):\n",
    "    print(\"\\n--------SVM-----------\")\n",
    "    param_grid = {'C': [0.001, 0.01, 0.1, 1, 10, 100, 1000],  \n",
    "                  'gamma': [1, 0.1, 0.01, 0.001, 0.0001], \n",
    "                  'kernel': ['linear', 'rbf', 'sigmoid']}  \n",
    "\n",
    "    grid = GridSearchCV(SVC(), param_grid, refit = True) \n",
    "\n",
    "    # fitting the model for grid search \n",
    "    grid.fit(X_train, y_train) \n",
    "    print(\"\\n<Best Params> :\",grid.best_params_) \n",
    "    grid_predictions = grid.predict(X_test) \n",
    "\n",
    "    # print classification report \n",
    "    print(\"\\n<Classification Report>\\n\",classification_report(y_test, grid_predictions)) \n",
    "    # print confusion matrix \n",
    "    print(\"\\n<Confusion Matrix>\\n\",confusion_matrix(y_test, grid_predictions)) \n",
    "    # print Acuracy\n",
    "    print(\"\\n<Accuracy> : \",accuracy_score(y_test, grid_predictions)) \n",
    "    return roc_auc_score(y_test, grid_predictions),accuracy_score(y_test, grid_predictions)\n",
    "\n",
    "\n"
   ],
   "execution_count": 36,
   "outputs": []
  },
  {
   "cell_type": "markdown",
   "metadata": {
    "colab_type": "text",
    "id": "9_z-hZG0zVqA"
   },
   "source": [
    "##  3. XGBoost"
   ]
  },
  {
   "cell_type": "code",
   "metadata": {
    "colab_type": "code",
    "id": "AEpj-PL-zVqB",
    "colab": {}
   },
   "source": [
    "\n",
    "\n",
    "def XGB_grid(X_train,y_train,X_test,y_test):\n",
    "    xg_clf = XGBClassifier(scoring='roc_auc')\n",
    "    parameters = {\n",
    "              'objective':['binary:logistic'],\n",
    "              'learning_rate': [ 0.0001,0.001, 0.1, 0.2, 0.5],\n",
    "              'max_depth': [3,5,7,9],\n",
    "              'min_child_weight': [1,3,5,7],\n",
    "              'subsample': [0.8],\n",
    "              'n_estimators': [100],\n",
    "              'scale_pos_weight' : [1]\n",
    "              }\n",
    "    xg_clf = GridSearchCV(xg_clf, parameters, n_jobs=5, verbose=2, refit=True,scoring='roc_auc')\n",
    "    xg_clf.fit(X_train,y_train)\n",
    "    print(xg_clf.best_params_)\n",
    "    pred = xg_clf.predict(X_test)\n",
    "\n",
    "    print(\"\\n<Classification Report>\\n\",classification_report(y_test, pred))\n",
    "    # print confusion matrix\n",
    "    print(\"\\n,Confusion Matrix>\\n\",confusion_matrix(y_test, pred))\n",
    "    # print Acuracy\n",
    "    print(\"\\n<Accuracy> : \",accuracy_score(y_test, pred))\n",
    "    return roc_auc_score(y_test, pred),accuracy_score(y_test, pred)\n",
    "\n",
    "\n"
   ],
   "execution_count": 37,
   "outputs": []
  },
  {
   "cell_type": "markdown",
   "metadata": {
    "id": "NoMJR35ApobD",
    "colab_type": "text"
   },
   "source": [
    "#Naive bayes"
   ]
  },
  {
   "cell_type": "code",
   "metadata": {
    "id": "D61tdmeEpiIs",
    "colab_type": "code",
    "colab": {}
   },
   "source": [
    "from sklearn.naive_bayes import GaussianNB\n",
    "def NB(Xtrain,Ytrain,Xtest,Ytest):\n",
    "  gnb = GaussianNB()\n",
    "  pred = gnb.fit(Xtrain,Ytrain).predict(Xtest)\n",
    "  print(\"\\n<Classification Report>\\n\",classification_report(Ytest, pred))\n",
    "  # print confusion matrix\n",
    "  print(\"\\n,Confusion Matrix>\\n\",confusion_matrix(Ytest, pred))\n",
    "  # print Acuracy\n",
    "  print(\"\\n<Accuracy> : \",accuracy_score(Ytest, pred))\n",
    "  return roc_auc_score(Ytest, pred),accuracy_score(Ytest, pred)\n",
    "\n"
   ],
   "execution_count": 38,
   "outputs": []
  },
  {
   "cell_type": "markdown",
   "metadata": {
    "id": "UYBVcE0zGyhO",
    "colab_type": "text"
   },
   "source": [
    "#Adaboost"
   ]
  },
  {
   "cell_type": "code",
   "metadata": {
    "id": "sYz1jy2DGn7N",
    "colab_type": "code",
    "colab": {}
   },
   "source": [
    "def ADB_grid(X_train,y_train,X_test,y_test):\n",
    " ada_boost = AdaBoostClassifier()\n",
    " \n",
    " grid_params = {  \n",
    "                  'learning_rate': [ 0.0001,0.001, 0.1, 0.2, 0.5],\n",
    "                  'n_estimators': [100,200,300]}\n",
    " adb_grid = GridSearchCV(ada_boost, param_grid = grid_params, scoring='roc_auc', cv=5, n_jobs = -1)\n",
    " adb_grid.fit(X_train,y_train)\n",
    " print(adb_grid.best_params_)\n",
    " pred =  adb_grid.predict(X_test)\n",
    "\n",
    " print(\"Classification Report : \",classification_report(y_test, pred))\n",
    " # print confusion matrix\n",
    " print(\"Confusion Matrix : \",confusion_matrix(y_test, pred))\n",
    " # print Acuracy\n",
    " print(\"Accuracy : \",accuracy_score(y_test, pred))\n",
    " return roc_auc_score(y_test, pred),accuracy_score(y_test, pred)\n"
   ],
   "execution_count": 39,
   "outputs": []
  },
  {
   "cell_type": "markdown",
   "metadata": {
    "id": "MVgTqhk7CpWP",
    "colab_type": "text"
   },
   "source": [
    "## 4. Random Forest"
   ]
  },
  {
   "cell_type": "code",
   "metadata": {
    "id": "_CNAa80VCpWQ",
    "colab_type": "code",
    "colab": {}
   },
   "source": [
    "\n",
    "#parameters for random forest\n",
    "#----------------------\n",
    "#Number of trees in random forest\n",
    "n_estimators = [int(x) for x in np.linspace(start = 200, stop = 2000, num = 10)]\n",
    "# Number of features to consider at every split\n",
    "max_features = ['auto', 'sqrt']\n",
    "# Maximum number of levels in tree\n",
    "max_depth = [int(x) for x in np.linspace(10, 110, num = 11)]\n",
    "max_depth.append(None)\n",
    "# Minimum number of samples required to split a node\n",
    "min_samples_split = [2, 5, 10]\n",
    "# Minimum number of samples required at each leaf node\n",
    "min_samples_leaf = [1, 2, 4]\n",
    "# Method of selecting samples for training each tree\n",
    "bootstrap = [True, False]\n",
    "#------------------------------\n",
    "def RF_grid(X_train,y_train,X_test,y_test):\n",
    "    print(\"\\n--------RF-----------\")\n",
    "    random_grid = {'n_estimators': n_estimators,\n",
    "               'max_features': max_features,\n",
    "               'max_depth': max_depth,\n",
    "               'min_samples_split': min_samples_split,\n",
    "               'min_samples_leaf': min_samples_leaf,\n",
    "               'bootstrap': bootstrap}\n",
    "\n",
    "    grid = RandomizedSearchCV(estimator = RandomForestClassifier(), param_distributions = random_grid, n_iter = 100, cv = 3, verbose=2, random_state=42, n_jobs = -1)\n",
    "\n",
    "    # fitting the model for grid search\n",
    "    grid.fit(X_train, y_train)\n",
    "    print(\"\\n<Best Params> :\",grid.best_params_)\n",
    "    grid_predictions = grid.predict(X_test)\n",
    "    # print classification report\n",
    "    print(\"\\n<Classification Report>\\n\",classification_report(y_test, grid_predictions))\n",
    "    # print confusion matrix\n",
    "    print(\"\\n<Confusion Matrix>\\n\",confusion_matrix(y_test, grid_predictions))\n",
    "    # print Acuracy\n",
    "    print(\"\\n<Accuracy> : \",accuracy_score(y_test, grid_predictions))\n",
    "    return roc_auc_score(y_test, grid_predictions),accuracy_score(y_test, grid_predictions)\n"
   ],
   "execution_count": 40,
   "outputs": []
  },
  {
   "cell_type": "markdown",
   "metadata": {
    "id": "4D2KovnhCpWT",
    "colab_type": "text"
   },
   "source": [
    "## 5. Neural Network"
   ]
  },
  {
   "cell_type": "code",
   "metadata": {
    "id": "KnBO8n1sCpWT",
    "colab_type": "code",
    "colab": {}
   },
   "source": [
    "def NN_grid(X_train,y_train,X_test,y_test):\n",
    "    model = Sequential()\n",
    "    model.add(Dense(12, input_dim=X_train.shape[1], activation='relu'))\n",
    "    model.add(Dense(50, activation='relu'))\n",
    "    model.add(Dense(1, activation='sigmoid'))\n",
    "    # compile the keras model\n",
    "    model.compile(loss='binary_crossentropy', optimizer='adam', metrics=['accuracy'])\n",
    "    # fit the keras model on the dataset\n",
    "    model.fit(X_train,y_train, epochs=150, batch_size=10,verbose=0)\n",
    "    # evaluate the keras model\n",
    "    _, accuracy = model.evaluate(X_test,y_test)\n",
    "    pred = model.predict_classes(X_test)\n",
    "    print('Accuracy: %.2f' % (accuracy*100))\n",
    "    return roc_auc_score(y_test, pred),accuracy_score(y_test, pred)"
   ],
   "execution_count": 41,
   "outputs": []
  },
  {
   "cell_type": "code",
   "metadata": {
    "id": "P2cn7XYuCpWW",
    "colab_type": "code",
    "colab": {}
   },
   "source": [
    "#plotting performance of models\n",
    "import matplotlib as mpl\n",
    "import matplotlib.pylab as plt\n",
    "\n",
    "def plot_bar(accuracy_list, roc_list):\n",
    "    fig,ax = plt.subplots(1,1,figsize=(6,3),dpi=100,num=1)\n",
    "\n",
    "    Nbins = 5\n",
    "    Nbars = 2 # Number of bars (items) per bin\n",
    "\n",
    "    width = 1.0 /(Nbars+2)\n",
    "    ind = np.arange(Nbins)\n",
    "\n",
    "    # generate random data for now\n",
    "    np.random.seed(44328)\n",
    "    # Data = [np.random.uniform(size=Nbins) for i in range(Nbars)]\n",
    "    Data = [np.asarray(accuracy_list), np.asarray(roc_list)]\n",
    "    labels = ['acc', 'roc']\n",
    "\n",
    "    for ii,dat_item in enumerate(Data):\n",
    "        ax.bar(ind + (ii+1)*width,dat_item,width,label=labels[ii])\n",
    "\n",
    "    ax.set_xticks(ind+0.5)\n",
    "    ax.set_xticklabels(['fold 1','fold 2','fold 3','fold 4','fold 5'])\n",
    "    ax.legend()\n",
    "    ax.plot()"
   ],
   "execution_count": 42,
   "outputs": []
  },
  {
   "cell_type": "code",
   "metadata": {
    "id": "DUHh-cb6JBau",
    "colab_type": "code",
    "colab": {}
   },
   "source": [
    "def main_colon():\n",
    "    print(\"Models Available : \\n1. LR_grid\\n2. SVM_grid\\n3. XGB_grid\\n4. RF_grid\\n5. NN_grid\\n6. NB\\n7. ADB_grid\")\n",
    "    model_func = int(input(\"Enter model id : \"))\n",
    "    flag=int(input(\"Enter flag:\"))\n",
    "    flag=int(input(\"Enter feature selection technique: 0 for correlation 0 for correlation and 1 for selctKBest\"))\n",
    "    threshold=int(input(\"Enter threshold:\"))\n",
    "    func = [LR_grid, SVM_grid, XGB_grid,RF_grid, NN_grid,NB,ADB_grid]     # List of functions\n",
    "    model_func = func[model_func-1]                           # Select which function to call\n",
    "    roc_list,accuracy_list = kCrossValidation(X_colon,Y_colon,5,model_func,flag,threshold)\n",
    "    # This prints the performance of each of the k fold\n",
    "    plot_bar(accuracy_list,roc_list)\n",
    "    print(\"MAUC :\",sum(roc_list) / len(roc_list))\n",
    "    print(\"MAccuracy\",sum(accuracy_list) / len(accuracy_list))"
   ],
   "execution_count": 43,
   "outputs": []
  },
  {
   "cell_type": "code",
   "metadata": {
    "id": "L5D8LMM1JMpH",
    "colab_type": "code",
    "colab": {}
   },
   "source": [
    "def main_liver():\n",
    "    print(\"Models Available : \\n1. LR_grid\\n2. SVM_grid\\n3. XGB_grid\\n4. RF_grid\\n5. NN_grid\\n6. NB\\n7. ADB_grid\")\n",
    "    model_func = int(input(\"Enter model id : \"))\n",
    "    flag=int(input(\"Enter feature selection technique: 0 for correlation 0 for correlation and 1 for selctKBest\"))\n",
    "    threshold=int(input(\"Enter threshold:\"))\n",
    "    func = [LR_grid, SVM_grid, XGB_grid,RF_grid, NN_grid,NB,ADB_grid]     # List of functions\n",
    "    model_func = func[model_func-1]                           # Select which function to call\n",
    "    roc_list,accuracy_list = kCrossValidation(X_Liver,Y_liver,5,model_func,flag,threshold)\n",
    "    # This prints the performance of each of the k fold\n",
    "    plot_bar(accuracy_list,roc_list)\n",
    "    print(\"MAUC :\",sum(roc_list) / len(roc_list))\n",
    "    print(\"MAccuracy\",sum(accuracy_list) / len(accuracy_list))\n",
    "\n"
   ],
   "execution_count": 44,
   "outputs": []
  },
  {
   "cell_type": "code",
   "execution_count": 48,
   "outputs": [],
   "source": [
    "def plot_model(mauc_list, macr_list, model_names):\n",
    "    fig,ax = plt.subplots(1,1,figsize=(6,3),dpi=100,num=1)\n",
    "\n",
    "    Nbins = len(mauc_list)\n",
    "    Nbars = 2 # Number of bars (items) per bin\n",
    "\n",
    "    width = 1.0 /(Nbars+2)\n",
    "    ind = np.arange(Nbins)\n",
    "\n",
    "    # generate random data for now\n",
    "    np.random.seed(44328)\n",
    "    # Data = [np.random.uniform(size=Nbins) for i in range(Nbars)]\n",
    "    Data = [np.asarray(mauc_list), np.asarray(macr_list)]\n",
    "    labels = ['acc', 'roc']\n",
    "\n",
    "    for ii,dat_item in enumerate(Data):\n",
    "        ax.bar(ind + (ii+1)*width,dat_item,width,label=labels[ii])\n",
    "\n",
    "    ax.set_xticks(ind+0.5)\n",
    "    ax.set_xticklabels(model_names)\n",
    "    ax.legend()\n",
    "    ax.plot()\n",
    "    plt.show()"
   ],
   "metadata": {
    "collapsed": false,
    "pycharm": {
     "name": "#%%\n"
    }
   }
  },
  {
   "cell_type": "code",
   "execution_count": 46,
   "outputs": [
    {
     "name": "stdout",
     "output_type": "stream",
     "text": [
      "------------------------ Logistic Regression -----------------------------\n",
      "\n",
      "--------Logistic Regression-----------\n",
      "\n",
      "<Best Params> : {'solver': 'newton-cg'}\n",
      "\n",
      "<Classification Report>\n",
      "               precision    recall  f1-score   support\n",
      "\n",
      "         0.0       1.00      0.50      0.67         2\n",
      "         1.0       0.75      1.00      0.86         3\n",
      "\n",
      "    accuracy                           0.80         5\n",
      "   macro avg       0.88      0.75      0.76         5\n",
      "weighted avg       0.85      0.80      0.78         5\n",
      "\n",
      "\n",
      "<Confusion Matrix>\n",
      " [[1 1]\n",
      " [0 3]]\n",
      "\n",
      "<Accuracy> :  0.8\n",
      "\n",
      "--------Logistic Regression-----------\n",
      "\n",
      "<Best Params> : {'solver': 'newton-cg'}\n",
      "\n",
      "<Classification Report>\n",
      "               precision    recall  f1-score   support\n",
      "\n",
      "         0.0       1.00      1.00      1.00         2\n",
      "         1.0       1.00      1.00      1.00         2\n",
      "\n",
      "    accuracy                           1.00         4\n",
      "   macro avg       1.00      1.00      1.00         4\n",
      "weighted avg       1.00      1.00      1.00         4\n",
      "\n",
      "\n",
      "<Confusion Matrix>\n",
      " [[2 0]\n",
      " [0 2]]\n",
      "\n",
      "<Accuracy> :  1.0\n",
      "\n",
      "--------Logistic Regression-----------\n",
      "\n",
      "<Best Params> : {'solver': 'newton-cg'}\n",
      "\n",
      "<Classification Report>\n",
      "               precision    recall  f1-score   support\n",
      "\n",
      "         0.0       0.50      1.00      0.67         1\n",
      "         1.0       1.00      0.67      0.80         3\n",
      "\n",
      "    accuracy                           0.75         4\n",
      "   macro avg       0.75      0.83      0.73         4\n",
      "weighted avg       0.88      0.75      0.77         4\n",
      "\n",
      "\n",
      "<Confusion Matrix>\n",
      " [[1 0]\n",
      " [1 2]]\n",
      "\n",
      "<Accuracy> :  0.75\n",
      "\n",
      "--------Logistic Regression-----------\n",
      "\n",
      "<Best Params> : {'solver': 'liblinear'}\n",
      "\n",
      "<Classification Report>\n",
      "               precision    recall  f1-score   support\n",
      "\n",
      "         0.0       1.00      1.00      1.00         1\n",
      "         1.0       1.00      1.00      1.00         3\n",
      "\n",
      "    accuracy                           1.00         4\n",
      "   macro avg       1.00      1.00      1.00         4\n",
      "weighted avg       1.00      1.00      1.00         4\n",
      "\n",
      "\n",
      "<Confusion Matrix>\n",
      " [[1 0]\n",
      " [0 3]]\n",
      "\n",
      "<Accuracy> :  1.0\n",
      "\n",
      "--------Logistic Regression-----------\n",
      "\n",
      "<Best Params> : {'solver': 'newton-cg'}\n",
      "\n",
      "<Classification Report>\n",
      "               precision    recall  f1-score   support\n",
      "\n",
      "         0.0       1.00      1.00      1.00         1\n",
      "         1.0       1.00      1.00      1.00         3\n",
      "\n",
      "    accuracy                           1.00         4\n",
      "   macro avg       1.00      1.00      1.00         4\n",
      "weighted avg       1.00      1.00      1.00         4\n",
      "\n",
      "\n",
      "<Confusion Matrix>\n",
      " [[1 0]\n",
      " [0 3]]\n",
      "\n",
      "<Accuracy> :  1.0\n",
      "------------------------Graph of Logistic Regression-----------------------------\n",
      "final MAUC : 0.9166666666666666\n",
      "final MACr 0.9099999999999999\n",
      "------------------------ SVM -----------------------------\n",
      "\n",
      "--------SVM-----------\n",
      "\n",
      "<Best Params> : {'C': 0.01, 'gamma': 1, 'kernel': 'linear'}\n",
      "\n",
      "<Classification Report>\n",
      "               precision    recall  f1-score   support\n",
      "\n",
      "         0.0       1.00      0.50      0.67         2\n",
      "         1.0       0.75      1.00      0.86         3\n",
      "\n",
      "    accuracy                           0.80         5\n",
      "   macro avg       0.88      0.75      0.76         5\n",
      "weighted avg       0.85      0.80      0.78         5\n",
      "\n",
      "\n",
      "<Confusion Matrix>\n",
      " [[1 1]\n",
      " [0 3]]\n",
      "\n",
      "<Accuracy> :  0.8\n",
      "\n",
      "--------SVM-----------\n",
      "\n",
      "<Best Params> : {'C': 10, 'gamma': 0.001, 'kernel': 'rbf'}\n",
      "\n",
      "<Classification Report>\n",
      "               precision    recall  f1-score   support\n",
      "\n",
      "         0.0       1.00      1.00      1.00         2\n",
      "         1.0       1.00      1.00      1.00         2\n",
      "\n",
      "    accuracy                           1.00         4\n",
      "   macro avg       1.00      1.00      1.00         4\n",
      "weighted avg       1.00      1.00      1.00         4\n",
      "\n",
      "\n",
      "<Confusion Matrix>\n",
      " [[2 0]\n",
      " [0 2]]\n",
      "\n",
      "<Accuracy> :  1.0\n",
      "\n",
      "--------SVM-----------\n",
      "\n",
      "<Best Params> : {'C': 0.01, 'gamma': 1, 'kernel': 'linear'}\n",
      "\n",
      "<Classification Report>\n",
      "               precision    recall  f1-score   support\n",
      "\n",
      "         0.0       0.50      1.00      0.67         1\n",
      "         1.0       1.00      0.67      0.80         3\n",
      "\n",
      "    accuracy                           0.75         4\n",
      "   macro avg       0.75      0.83      0.73         4\n",
      "weighted avg       0.88      0.75      0.77         4\n",
      "\n",
      "\n",
      "<Confusion Matrix>\n",
      " [[1 0]\n",
      " [1 2]]\n",
      "\n",
      "<Accuracy> :  0.75\n",
      "\n",
      "--------SVM-----------\n",
      "\n",
      "<Best Params> : {'C': 10, 'gamma': 0.001, 'kernel': 'rbf'}\n",
      "\n",
      "<Classification Report>\n",
      "               precision    recall  f1-score   support\n",
      "\n",
      "         0.0       1.00      1.00      1.00         1\n",
      "         1.0       1.00      1.00      1.00         3\n",
      "\n",
      "    accuracy                           1.00         4\n",
      "   macro avg       1.00      1.00      1.00         4\n",
      "weighted avg       1.00      1.00      1.00         4\n",
      "\n",
      "\n",
      "<Confusion Matrix>\n",
      " [[1 0]\n",
      " [0 3]]\n",
      "\n",
      "<Accuracy> :  1.0\n",
      "\n",
      "--------SVM-----------\n",
      "\n",
      "<Best Params> : {'C': 10, 'gamma': 0.001, 'kernel': 'rbf'}\n",
      "\n",
      "<Classification Report>\n",
      "               precision    recall  f1-score   support\n",
      "\n",
      "         0.0       1.00      1.00      1.00         1\n",
      "         1.0       1.00      1.00      1.00         3\n",
      "\n",
      "    accuracy                           1.00         4\n",
      "   macro avg       1.00      1.00      1.00         4\n",
      "weighted avg       1.00      1.00      1.00         4\n",
      "\n",
      "\n",
      "<Confusion Matrix>\n",
      " [[1 0]\n",
      " [0 3]]\n",
      "\n",
      "<Accuracy> :  1.0\n",
      "------------------------Graph of SVM-----------------------------\n",
      "final MAUC : 0.9166666666666666\n",
      "final MACr 0.9099999999999999\n",
      "------------------------ XGBoost -----------------------------\n",
      "Fitting 5 folds for each of 80 candidates, totalling 400 fits\n",
      "{'learning_rate': 0.0001, 'max_depth': 3, 'min_child_weight': 1, 'n_estimators': 100, 'objective': 'binary:logistic', 'scale_pos_weight': 1, 'subsample': 0.8}\n",
      "\n",
      "<Classification Report>\n",
      "               precision    recall  f1-score   support\n",
      "\n",
      "         0.0       1.00      0.50      0.67         2\n",
      "         1.0       0.75      1.00      0.86         3\n",
      "\n",
      "    accuracy                           0.80         5\n",
      "   macro avg       0.88      0.75      0.76         5\n",
      "weighted avg       0.85      0.80      0.78         5\n",
      "\n",
      "\n",
      ",Confusion Matrix>\n",
      " [[1 1]\n",
      " [0 3]]\n",
      "\n",
      "<Accuracy> :  0.8\n",
      "Fitting 5 folds for each of 80 candidates, totalling 400 fits\n",
      "{'learning_rate': 0.0001, 'max_depth': 3, 'min_child_weight': 1, 'n_estimators': 100, 'objective': 'binary:logistic', 'scale_pos_weight': 1, 'subsample': 0.8}\n",
      "\n",
      "<Classification Report>\n",
      "               precision    recall  f1-score   support\n",
      "\n",
      "         0.0       0.00      0.00      0.00         2\n",
      "         1.0       0.50      1.00      0.67         2\n",
      "\n",
      "    accuracy                           0.50         4\n",
      "   macro avg       0.25      0.50      0.33         4\n",
      "weighted avg       0.25      0.50      0.33         4\n",
      "\n",
      "\n",
      ",Confusion Matrix>\n",
      " [[0 2]\n",
      " [0 2]]\n",
      "\n",
      "<Accuracy> :  0.5\n",
      "Fitting 5 folds for each of 80 candidates, totalling 400 fits\n",
      "{'learning_rate': 0.0001, 'max_depth': 3, 'min_child_weight': 1, 'n_estimators': 100, 'objective': 'binary:logistic', 'scale_pos_weight': 1, 'subsample': 0.8}\n",
      "\n",
      "<Classification Report>\n",
      "               precision    recall  f1-score   support\n",
      "\n",
      "         0.0       0.50      1.00      0.67         1\n",
      "         1.0       1.00      0.67      0.80         3\n",
      "\n",
      "    accuracy                           0.75         4\n",
      "   macro avg       0.75      0.83      0.73         4\n",
      "weighted avg       0.88      0.75      0.77         4\n",
      "\n",
      "\n",
      ",Confusion Matrix>\n",
      " [[1 0]\n",
      " [1 2]]\n",
      "\n",
      "<Accuracy> :  0.75\n",
      "Fitting 5 folds for each of 80 candidates, totalling 400 fits\n",
      "{'learning_rate': 0.0001, 'max_depth': 3, 'min_child_weight': 1, 'n_estimators': 100, 'objective': 'binary:logistic', 'scale_pos_weight': 1, 'subsample': 0.8}\n",
      "\n",
      "<Classification Report>\n",
      "               precision    recall  f1-score   support\n",
      "\n",
      "         0.0       0.00      0.00      0.00         1\n",
      "         1.0       0.75      1.00      0.86         3\n",
      "\n",
      "    accuracy                           0.75         4\n",
      "   macro avg       0.38      0.50      0.43         4\n",
      "weighted avg       0.56      0.75      0.64         4\n",
      "\n",
      "\n",
      ",Confusion Matrix>\n",
      " [[0 1]\n",
      " [0 3]]\n",
      "\n",
      "<Accuracy> :  0.75\n",
      "Fitting 5 folds for each of 80 candidates, totalling 400 fits\n",
      "{'learning_rate': 0.001, 'max_depth': 3, 'min_child_weight': 1, 'n_estimators': 100, 'objective': 'binary:logistic', 'scale_pos_weight': 1, 'subsample': 0.8}\n",
      "\n",
      "<Classification Report>\n",
      "               precision    recall  f1-score   support\n",
      "\n",
      "         0.0       1.00      1.00      1.00         1\n",
      "         1.0       1.00      1.00      1.00         3\n",
      "\n",
      "    accuracy                           1.00         4\n",
      "   macro avg       1.00      1.00      1.00         4\n",
      "weighted avg       1.00      1.00      1.00         4\n",
      "\n",
      "\n",
      ",Confusion Matrix>\n",
      " [[1 0]\n",
      " [0 3]]\n",
      "\n",
      "<Accuracy> :  1.0\n",
      "------------------------Graph of XGBoost-----------------------------\n",
      "final MAUC : 0.7166666666666666\n",
      "final MACr 0.76\n",
      "------------------------ Random Forest -----------------------------\n",
      "\n",
      "--------RF-----------\n",
      "Fitting 3 folds for each of 100 candidates, totalling 300 fits\n",
      "\n",
      "<Best Params> : {'n_estimators': 1000, 'min_samples_split': 2, 'min_samples_leaf': 1, 'max_features': 'auto', 'max_depth': 50, 'bootstrap': False}\n",
      "\n",
      "<Classification Report>\n",
      "               precision    recall  f1-score   support\n",
      "\n",
      "         0.0       0.00      0.00      0.00         2\n",
      "         1.0       0.60      1.00      0.75         3\n",
      "\n",
      "    accuracy                           0.60         5\n",
      "   macro avg       0.30      0.50      0.37         5\n",
      "weighted avg       0.36      0.60      0.45         5\n",
      "\n",
      "\n",
      "<Confusion Matrix>\n",
      " [[0 2]\n",
      " [0 3]]\n",
      "\n",
      "<Accuracy> :  0.6\n",
      "\n",
      "--------RF-----------\n",
      "Fitting 3 folds for each of 100 candidates, totalling 300 fits\n",
      "\n",
      "<Best Params> : {'n_estimators': 600, 'min_samples_split': 5, 'min_samples_leaf': 1, 'max_features': 'sqrt', 'max_depth': 60, 'bootstrap': False}\n",
      "\n",
      "<Classification Report>\n",
      "               precision    recall  f1-score   support\n",
      "\n",
      "         0.0       1.00      0.50      0.67         2\n",
      "         1.0       0.67      1.00      0.80         2\n",
      "\n",
      "    accuracy                           0.75         4\n",
      "   macro avg       0.83      0.75      0.73         4\n",
      "weighted avg       0.83      0.75      0.73         4\n",
      "\n",
      "\n",
      "<Confusion Matrix>\n",
      " [[1 1]\n",
      " [0 2]]\n",
      "\n",
      "<Accuracy> :  0.75\n",
      "\n",
      "--------RF-----------\n",
      "Fitting 3 folds for each of 100 candidates, totalling 300 fits\n",
      "\n",
      "<Best Params> : {'n_estimators': 1000, 'min_samples_split': 5, 'min_samples_leaf': 2, 'max_features': 'sqrt', 'max_depth': 100, 'bootstrap': False}\n",
      "\n",
      "<Classification Report>\n",
      "               precision    recall  f1-score   support\n",
      "\n",
      "         0.0       0.00      0.00      0.00         1\n",
      "         1.0       0.75      1.00      0.86         3\n",
      "\n",
      "    accuracy                           0.75         4\n",
      "   macro avg       0.38      0.50      0.43         4\n",
      "weighted avg       0.56      0.75      0.64         4\n",
      "\n",
      "\n",
      "<Confusion Matrix>\n",
      " [[0 1]\n",
      " [0 3]]\n",
      "\n",
      "<Accuracy> :  0.75\n",
      "\n",
      "--------RF-----------\n",
      "Fitting 3 folds for each of 100 candidates, totalling 300 fits\n",
      "\n",
      "<Best Params> : {'n_estimators': 1400, 'min_samples_split': 5, 'min_samples_leaf': 1, 'max_features': 'sqrt', 'max_depth': 80, 'bootstrap': False}\n",
      "\n",
      "<Classification Report>\n",
      "               precision    recall  f1-score   support\n",
      "\n",
      "         0.0       1.00      1.00      1.00         1\n",
      "         1.0       1.00      1.00      1.00         3\n",
      "\n",
      "    accuracy                           1.00         4\n",
      "   macro avg       1.00      1.00      1.00         4\n",
      "weighted avg       1.00      1.00      1.00         4\n",
      "\n",
      "\n",
      "<Confusion Matrix>\n",
      " [[1 0]\n",
      " [0 3]]\n",
      "\n",
      "<Accuracy> :  1.0\n",
      "\n",
      "--------RF-----------\n",
      "Fitting 3 folds for each of 100 candidates, totalling 300 fits\n",
      "\n",
      "<Best Params> : {'n_estimators': 1200, 'min_samples_split': 5, 'min_samples_leaf': 2, 'max_features': 'sqrt', 'max_depth': 10, 'bootstrap': False}\n",
      "\n",
      "<Classification Report>\n",
      "               precision    recall  f1-score   support\n",
      "\n",
      "         0.0       1.00      1.00      1.00         1\n",
      "         1.0       1.00      1.00      1.00         3\n",
      "\n",
      "    accuracy                           1.00         4\n",
      "   macro avg       1.00      1.00      1.00         4\n",
      "weighted avg       1.00      1.00      1.00         4\n",
      "\n",
      "\n",
      "<Confusion Matrix>\n",
      " [[1 0]\n",
      " [0 3]]\n",
      "\n",
      "<Accuracy> :  1.0\n",
      "------------------------Graph of Random Forest-----------------------------\n",
      "final MAUC : 0.75\n",
      "final MACr 0.82\n",
      "------------------------ Neural Network -----------------------------\n",
      "5/5 [==============================] - 0s 52ms/step\n",
      "Accuracy: 80.00\n",
      "4/4 [==============================] - 0s 79ms/step\n",
      "Accuracy: 50.00\n",
      "4/4 [==============================] - 0s 40ms/step\n",
      "Accuracy: 100.00\n",
      "4/4 [==============================] - 0s 42ms/step\n",
      "Accuracy: 100.00\n",
      "4/4 [==============================] - 0s 35ms/step\n",
      "Accuracy: 100.00\n",
      "------------------------Graph of Neural Network-----------------------------\n",
      "final MAUC : 0.85\n",
      "final MACr 0.86\n",
      "------------------------ Naive Bayes -----------------------------\n",
      "\n",
      "<Classification Report>\n",
      "               precision    recall  f1-score   support\n",
      "\n",
      "         0.0       0.00      0.00      0.00         2\n",
      "         1.0       0.60      1.00      0.75         3\n",
      "\n",
      "    accuracy                           0.60         5\n",
      "   macro avg       0.30      0.50      0.37         5\n",
      "weighted avg       0.36      0.60      0.45         5\n",
      "\n",
      "\n",
      ",Confusion Matrix>\n",
      " [[0 2]\n",
      " [0 3]]\n",
      "\n",
      "<Accuracy> :  0.6\n",
      "\n",
      "<Classification Report>\n",
      "               precision    recall  f1-score   support\n",
      "\n",
      "         0.0       1.00      0.50      0.67         2\n",
      "         1.0       0.67      1.00      0.80         2\n",
      "\n",
      "    accuracy                           0.75         4\n",
      "   macro avg       0.83      0.75      0.73         4\n",
      "weighted avg       0.83      0.75      0.73         4\n",
      "\n",
      "\n",
      ",Confusion Matrix>\n",
      " [[1 1]\n",
      " [0 2]]\n",
      "\n",
      "<Accuracy> :  0.75\n",
      "\n",
      "<Classification Report>\n",
      "               precision    recall  f1-score   support\n",
      "\n",
      "         0.0       0.00      0.00      0.00         1\n",
      "         1.0       0.75      1.00      0.86         3\n",
      "\n",
      "    accuracy                           0.75         4\n",
      "   macro avg       0.38      0.50      0.43         4\n",
      "weighted avg       0.56      0.75      0.64         4\n",
      "\n",
      "\n",
      ",Confusion Matrix>\n",
      " [[0 1]\n",
      " [0 3]]\n",
      "\n",
      "<Accuracy> :  0.75\n",
      "\n",
      "<Classification Report>\n",
      "               precision    recall  f1-score   support\n",
      "\n",
      "         0.0       1.00      1.00      1.00         1\n",
      "         1.0       1.00      1.00      1.00         3\n",
      "\n",
      "    accuracy                           1.00         4\n",
      "   macro avg       1.00      1.00      1.00         4\n",
      "weighted avg       1.00      1.00      1.00         4\n",
      "\n",
      "\n",
      ",Confusion Matrix>\n",
      " [[1 0]\n",
      " [0 3]]\n",
      "\n",
      "<Accuracy> :  1.0\n",
      "\n",
      "<Classification Report>\n",
      "               precision    recall  f1-score   support\n",
      "\n",
      "         0.0       0.00      0.00      0.00         1\n",
      "         1.0       0.75      1.00      0.86         3\n",
      "\n",
      "    accuracy                           0.75         4\n",
      "   macro avg       0.38      0.50      0.43         4\n",
      "weighted avg       0.56      0.75      0.64         4\n",
      "\n",
      "\n",
      ",Confusion Matrix>\n",
      " [[0 1]\n",
      " [0 3]]\n",
      "\n",
      "<Accuracy> :  0.75\n",
      "------------------------Graph of Naive Bayes-----------------------------\n",
      "final MAUC : 0.65\n",
      "final MACr 0.77\n",
      "------------------------ ADB -----------------------------\n",
      "{'learning_rate': 0.2, 'n_estimators': 300}\n",
      "Classification Report :                precision    recall  f1-score   support\n",
      "\n",
      "         0.0       0.67      1.00      0.80         2\n",
      "         1.0       1.00      0.67      0.80         3\n",
      "\n",
      "    accuracy                           0.80         5\n",
      "   macro avg       0.83      0.83      0.80         5\n",
      "weighted avg       0.87      0.80      0.80         5\n",
      "\n",
      "Confusion Matrix :  [[2 0]\n",
      " [1 2]]\n",
      "Accuracy :  0.8\n",
      "{'learning_rate': 0.0001, 'n_estimators': 100}\n",
      "Classification Report :                precision    recall  f1-score   support\n",
      "\n",
      "         0.0       0.67      1.00      0.80         2\n",
      "         1.0       1.00      0.50      0.67         2\n",
      "\n",
      "    accuracy                           0.75         4\n",
      "   macro avg       0.83      0.75      0.73         4\n",
      "weighted avg       0.83      0.75      0.73         4\n",
      "\n",
      "Confusion Matrix :  [[2 0]\n",
      " [1 1]]\n",
      "Accuracy :  0.75\n",
      "{'learning_rate': 0.001, 'n_estimators': 100}\n",
      "Classification Report :                precision    recall  f1-score   support\n",
      "\n",
      "         0.0       0.50      1.00      0.67         1\n",
      "         1.0       1.00      0.67      0.80         3\n",
      "\n",
      "    accuracy                           0.75         4\n",
      "   macro avg       0.75      0.83      0.73         4\n",
      "weighted avg       0.88      0.75      0.77         4\n",
      "\n",
      "Confusion Matrix :  [[1 0]\n",
      " [1 2]]\n",
      "Accuracy :  0.75\n",
      "{'learning_rate': 0.0001, 'n_estimators': 200}\n",
      "Classification Report :                precision    recall  f1-score   support\n",
      "\n",
      "         0.0       1.00      1.00      1.00         1\n",
      "         1.0       1.00      1.00      1.00         3\n",
      "\n",
      "    accuracy                           1.00         4\n",
      "   macro avg       1.00      1.00      1.00         4\n",
      "weighted avg       1.00      1.00      1.00         4\n",
      "\n",
      "Confusion Matrix :  [[1 0]\n",
      " [0 3]]\n",
      "Accuracy :  1.0\n",
      "{'learning_rate': 0.0001, 'n_estimators': 200}\n",
      "Classification Report :                precision    recall  f1-score   support\n",
      "\n",
      "         0.0       1.00      1.00      1.00         1\n",
      "         1.0       1.00      1.00      1.00         3\n",
      "\n",
      "    accuracy                           1.00         4\n",
      "   macro avg       1.00      1.00      1.00         4\n",
      "weighted avg       1.00      1.00      1.00         4\n",
      "\n",
      "Confusion Matrix :  [[1 0]\n",
      " [0 3]]\n",
      "Accuracy :  1.0\n",
      "------------------------Graph of ADB-----------------------------\n",
      "final MAUC : 0.8833333333333332\n",
      "final MACr 0.86\n"
     ]
    },
    {
     "name": "stderr",
     "output_type": "stream",
     "text": [
      "/home/lucky/anaconda3/envs/bdmhprj1/lib/python3.6/site-packages/sklearn/model_selection/_split.py:296: FutureWarning: Setting a random_state has no effect since shuffle is False. This will raise an error in 0.24. You should leave random_state to its default (None), or set shuffle=True.\n",
      "  FutureWarning\n",
      "/home/lucky/anaconda3/envs/bdmhprj1/lib/python3.6/site-packages/sklearn/linear_model/_sag.py:330: ConvergenceWarning: The max_iter was reached which means the coef_ did not converge\n",
      "  \"the coef_ did not converge\", ConvergenceWarning)\n",
      "/home/lucky/anaconda3/envs/bdmhprj1/lib/python3.6/site-packages/sklearn/model_selection/_split.py:296: FutureWarning: Setting a random_state has no effect since shuffle is False. This will raise an error in 0.24. You should leave random_state to its default (None), or set shuffle=True.\n",
      "  FutureWarning\n",
      "/home/lucky/anaconda3/envs/bdmhprj1/lib/python3.6/site-packages/sklearn/model_selection/_split.py:296: FutureWarning: Setting a random_state has no effect since shuffle is False. This will raise an error in 0.24. You should leave random_state to its default (None), or set shuffle=True.\n",
      "  FutureWarning\n",
      "[Parallel(n_jobs=5)]: Using backend LokyBackend with 5 concurrent workers.\n",
      "[Parallel(n_jobs=5)]: Done  31 tasks      | elapsed:    5.9s\n",
      "[Parallel(n_jobs=5)]: Done 152 tasks      | elapsed:   12.8s\n",
      "[Parallel(n_jobs=5)]: Done 355 tasks      | elapsed:   23.8s\n",
      "[Parallel(n_jobs=5)]: Done 400 out of 400 | elapsed:   26.4s finished\n",
      "[Parallel(n_jobs=5)]: Using backend LokyBackend with 5 concurrent workers.\n",
      "[Parallel(n_jobs=5)]: Done  31 tasks      | elapsed:    2.0s\n",
      "[Parallel(n_jobs=5)]: Done 152 tasks      | elapsed:    8.7s\n",
      "[Parallel(n_jobs=5)]: Done 355 tasks      | elapsed:   18.7s\n",
      "[Parallel(n_jobs=5)]: Done 400 out of 400 | elapsed:   20.9s finished\n",
      "/home/lucky/anaconda3/envs/bdmhprj1/lib/python3.6/site-packages/sklearn/metrics/_classification.py:1272: UndefinedMetricWarning: Precision and F-score are ill-defined and being set to 0.0 in labels with no predicted samples. Use `zero_division` parameter to control this behavior.\n",
      "  _warn_prf(average, modifier, msg_start, len(result))\n",
      "[Parallel(n_jobs=5)]: Using backend LokyBackend with 5 concurrent workers.\n",
      "[Parallel(n_jobs=5)]: Done  31 tasks      | elapsed:    1.9s\n",
      "[Parallel(n_jobs=5)]: Done 152 tasks      | elapsed:    8.7s\n",
      "[Parallel(n_jobs=5)]: Done 355 tasks      | elapsed:   18.9s\n",
      "[Parallel(n_jobs=5)]: Done 400 out of 400 | elapsed:   20.6s finished\n",
      "[Parallel(n_jobs=5)]: Using backend LokyBackend with 5 concurrent workers.\n",
      "[Parallel(n_jobs=5)]: Done  31 tasks      | elapsed:    1.9s\n",
      "[Parallel(n_jobs=5)]: Done 152 tasks      | elapsed:    8.9s\n",
      "[Parallel(n_jobs=5)]: Done 355 tasks      | elapsed:   18.8s\n",
      "[Parallel(n_jobs=5)]: Done 400 out of 400 | elapsed:   20.8s finished\n",
      "/home/lucky/anaconda3/envs/bdmhprj1/lib/python3.6/site-packages/sklearn/metrics/_classification.py:1272: UndefinedMetricWarning: Precision and F-score are ill-defined and being set to 0.0 in labels with no predicted samples. Use `zero_division` parameter to control this behavior.\n",
      "  _warn_prf(average, modifier, msg_start, len(result))\n",
      "[Parallel(n_jobs=5)]: Using backend LokyBackend with 5 concurrent workers.\n",
      "[Parallel(n_jobs=5)]: Done  31 tasks      | elapsed:    1.5s\n",
      "[Parallel(n_jobs=5)]: Done 152 tasks      | elapsed:    7.2s\n",
      "[Parallel(n_jobs=5)]: Done 355 tasks      | elapsed:   17.3s\n",
      "[Parallel(n_jobs=5)]: Done 400 out of 400 | elapsed:   19.5s finished\n",
      "/home/lucky/anaconda3/envs/bdmhprj1/lib/python3.6/site-packages/sklearn/model_selection/_split.py:296: FutureWarning: Setting a random_state has no effect since shuffle is False. This will raise an error in 0.24. You should leave random_state to its default (None), or set shuffle=True.\n",
      "  FutureWarning\n",
      "[Parallel(n_jobs=-1)]: Using backend LokyBackend with 4 concurrent workers.\n",
      "[Parallel(n_jobs=-1)]: Done  33 tasks      | elapsed:   59.4s\n",
      "[Parallel(n_jobs=-1)]: Done 154 tasks      | elapsed:  4.4min\n",
      "[Parallel(n_jobs=-1)]: Done 300 out of 300 | elapsed:  8.6min finished\n",
      "/home/lucky/anaconda3/envs/bdmhprj1/lib/python3.6/site-packages/sklearn/metrics/_classification.py:1272: UndefinedMetricWarning: Precision and F-score are ill-defined and being set to 0.0 in labels with no predicted samples. Use `zero_division` parameter to control this behavior.\n",
      "  _warn_prf(average, modifier, msg_start, len(result))\n",
      "[Parallel(n_jobs=-1)]: Using backend LokyBackend with 4 concurrent workers.\n",
      "[Parallel(n_jobs=-1)]: Done  33 tasks      | elapsed:   55.7s\n",
      "[Parallel(n_jobs=-1)]: Done 154 tasks      | elapsed:  4.3min\n",
      "[Parallel(n_jobs=-1)]: Done 300 out of 300 | elapsed:  8.5min finished\n",
      "[Parallel(n_jobs=-1)]: Using backend LokyBackend with 4 concurrent workers.\n",
      "[Parallel(n_jobs=-1)]: Done  33 tasks      | elapsed:   56.7s\n",
      "[Parallel(n_jobs=-1)]: Done 154 tasks      | elapsed:  4.3min\n",
      "[Parallel(n_jobs=-1)]: Done 300 out of 300 | elapsed:  8.5min finished\n",
      "/home/lucky/anaconda3/envs/bdmhprj1/lib/python3.6/site-packages/sklearn/metrics/_classification.py:1272: UndefinedMetricWarning: Precision and F-score are ill-defined and being set to 0.0 in labels with no predicted samples. Use `zero_division` parameter to control this behavior.\n",
      "  _warn_prf(average, modifier, msg_start, len(result))\n",
      "[Parallel(n_jobs=-1)]: Using backend LokyBackend with 4 concurrent workers.\n",
      "[Parallel(n_jobs=-1)]: Done  33 tasks      | elapsed:   57.1s\n",
      "[Parallel(n_jobs=-1)]: Done 154 tasks      | elapsed:  4.3min\n",
      "[Parallel(n_jobs=-1)]: Done 300 out of 300 | elapsed:  8.4min finished\n",
      "[Parallel(n_jobs=-1)]: Using backend LokyBackend with 4 concurrent workers.\n",
      "[Parallel(n_jobs=-1)]: Done  33 tasks      | elapsed:   55.7s\n",
      "[Parallel(n_jobs=-1)]: Done 154 tasks      | elapsed:  4.3min\n",
      "[Parallel(n_jobs=-1)]: Done 300 out of 300 | elapsed:  8.4min finished\n",
      "/home/lucky/anaconda3/envs/bdmhprj1/lib/python3.6/site-packages/sklearn/model_selection/_split.py:296: FutureWarning: Setting a random_state has no effect since shuffle is False. This will raise an error in 0.24. You should leave random_state to its default (None), or set shuffle=True.\n",
      "  FutureWarning\n",
      "/home/lucky/anaconda3/envs/bdmhprj1/lib/python3.6/site-packages/sklearn/model_selection/_split.py:296: FutureWarning: Setting a random_state has no effect since shuffle is False. This will raise an error in 0.24. You should leave random_state to its default (None), or set shuffle=True.\n",
      "  FutureWarning\n",
      "/home/lucky/anaconda3/envs/bdmhprj1/lib/python3.6/site-packages/sklearn/metrics/_classification.py:1272: UndefinedMetricWarning: Precision and F-score are ill-defined and being set to 0.0 in labels with no predicted samples. Use `zero_division` parameter to control this behavior.\n",
      "  _warn_prf(average, modifier, msg_start, len(result))\n",
      "/home/lucky/anaconda3/envs/bdmhprj1/lib/python3.6/site-packages/sklearn/metrics/_classification.py:1272: UndefinedMetricWarning: Precision and F-score are ill-defined and being set to 0.0 in labels with no predicted samples. Use `zero_division` parameter to control this behavior.\n",
      "  _warn_prf(average, modifier, msg_start, len(result))\n",
      "/home/lucky/anaconda3/envs/bdmhprj1/lib/python3.6/site-packages/sklearn/metrics/_classification.py:1272: UndefinedMetricWarning: Precision and F-score are ill-defined and being set to 0.0 in labels with no predicted samples. Use `zero_division` parameter to control this behavior.\n",
      "  _warn_prf(average, modifier, msg_start, len(result))\n",
      "/home/lucky/anaconda3/envs/bdmhprj1/lib/python3.6/site-packages/sklearn/model_selection/_split.py:296: FutureWarning: Setting a random_state has no effect since shuffle is False. This will raise an error in 0.24. You should leave random_state to its default (None), or set shuffle=True.\n",
      "  FutureWarning\n"
     ]
    },
    {
     "data": {
      "text/plain": "<Figure size 600x300 with 1 Axes>",
      "image/png": "[encoded data removed]"
     },
     "metadata": {
      "needs_background": "light"
     },
     "output_type": "display_data"
    },
    {
     "data": {
      "text/plain": "<Figure size 600x300 with 1 Axes>",
      "image/png": "[encoded data removed]"
     },
     "metadata": {
      "needs_background": "light"
     },
     "output_type": "display_data"
    },
    {
     "data": {
      "text/plain": "<Figure size 600x300 with 1 Axes>",
      "image/png": "[encoded data removed]"
     },
     "metadata": {
      "needs_background": "light"
     },
     "output_type": "display_data"
    },
    {
     "data": {
      "text/plain": "<Figure size 600x300 with 1 Axes>",
      "image/png": "[encoded data removed]"
     },
     "metadata": {
      "needs_background": "light"
     },
     "output_type": "display_data"
    },
    {
     "data": {
      "text/plain": "<Figure size 600x300 with 1 Axes>",
      "image/png": "[encoded data removed]"
     },
     "metadata": {
      "needs_background": "light"
     },
     "output_type": "display_data"
    },
    {
     "data": {
      "text/plain": "<Figure size 600x300 with 1 Axes>",
      "image/png": "[encoded data removed]"
     },
     "metadata": {
      "needs_background": "light"
     },
     "output_type": "display_data"
    },
    {
     "data": {
      "text/plain": "<Figure size 600x300 with 1 Axes>",
      "image/png": "[encoded data removed]"
     },
     "metadata": {
      "needs_background": "light"
     },
     "output_type": "display_data"
    }
   ],
   "source": [
    "# model_name = [\"Logistic Regression\", \"SVM\", \"XGBoost\", \"Random Forest\", \"Neural Network\",\"Naive Bayes\" , \"ADB\"]\n",
    "# func = [LR_grid, SVM_grid, XGB_grid,RF_grid, NN_grid,NB,ADB_grid]     # List of functions\n",
    "# mauc = []\n",
    "# macr = []\n",
    "# count = 0\n",
    "# for i in func:\n",
    "#     %matplotlib inline\n",
    "#     print(\"------------------------ \"+model_name[count]+\" -----------------------------\")\n",
    "#     roc_list,accuracy_list = kCrossValidation(X_colon,Y_colon,5,i,1,800)\n",
    "#     # This prints the performance of each of the k fold\n",
    "#     print(\"------------------------\"+\"Graph of \"+model_name[count]+\"-----------------------------\")\n",
    "#     count+=1\n",
    "#     plot_bar(accuracy_list,roc_list)\n",
    "#     avgMAUC = sum(roc_list) / len(roc_list)\n",
    "#     avgMACr =  sum(accuracy_list) / len(accuracy_list)\n",
    "#     mauc.append(avgMAUC)\n",
    "#     macr.append(avgMACr)\n",
    "#     print(\"final MAUC :\",avgMAUC)\n",
    "#     print(\"final MACr\",avgMACr)\n",
    "#     plt.pause(1)"
   ],
   "metadata": {
    "collapsed": false,
    "pycharm": {
     "name": "#%%\n"
    }
   }
  },
  {
   "cell_type": "code",
   "execution_count": null,
   "outputs": [],
   "source": [
    "# model_name = [\"LR\", \"SVM\", \"XGB\", \"RF\", \"NN\", \"NB\" , \"ADB\"]\n",
    "# plot_model(mauc,macr,model_name)"
   ],
   "metadata": {
    "collapsed": false,
    "pycharm": {
     "name": "#%%\n"
    }
   }
  },
  {
   "cell_type": "code",
   "metadata": {
    "id": "Y5iI1US1_zrs",
    "colab_type": "code",
    "outputId": "b8389168-fb28-4e06-bec2-a56cddfc6d6c",
    "executionInfo": {
     "status": "ok",
     "timestamp": 1589946202735,
     "user_tz": -330,
     "elapsed": 21909,
     "user": {
      "displayName": "Snehil IIITD",
      "photoUrl": "",
      "userId": "15237628669278151435"
     }
    },
    "colab": {
     "base_uri": "https://localhost:8080/",
     "height": 1000
    },
    "pycharm": {
     "name": "#%%\n"
    }
   },
   "source": [
    "main_colon()"
   ],
   "execution_count": null,
   "outputs": []
  },
  {
   "cell_type": "code",
   "execution_count": null,
   "outputs": [],
   "source": [
    "# print(mauc)\n",
    "# print(macr)"
   ],
   "metadata": {
    "collapsed": false,
    "pycharm": {
     "name": "#%%\n"
    }
   }
  }
 ]
}